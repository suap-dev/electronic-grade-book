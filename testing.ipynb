{
 "cells": [
  {
   "cell_type": "code",
   "execution_count": 1,
   "metadata": {},
   "outputs": [],
   "source": [
    "from gradebook import Subject"
   ]
  },
  {
   "cell_type": "code",
   "execution_count": 2,
   "metadata": {},
   "outputs": [],
   "source": [
    "s = Subject('Smurfs History')"
   ]
  },
  {
   "cell_type": "code",
   "execution_count": 3,
   "metadata": {},
   "outputs": [
    {
     "name": "stderr",
     "output_type": "stream",
     "text": [
      "c:\\suap\\dev\\oldRepos\\repos\\Python\\suap_coding\\electronic-grade-book\\gradebook.py:42: FutureWarning: The frame.append method is deprecated and will be removed from pandas in a future version. Use pandas.concat instead.\n",
      "  self.__grades = self.__grades.append(\n"
     ]
    }
   ],
   "source": [
    "s.add_grade('2+', 4, \"Grumpy is grumpy!\")"
   ]
  },
  {
   "cell_type": "code",
   "execution_count": 4,
   "metadata": {},
   "outputs": [
    {
     "data": {
      "text/html": [
       "<div>\n",
       "<style scoped>\n",
       "    .dataframe tbody tr th:only-of-type {\n",
       "        vertical-align: middle;\n",
       "    }\n",
       "\n",
       "    .dataframe tbody tr th {\n",
       "        vertical-align: top;\n",
       "    }\n",
       "\n",
       "    .dataframe thead th {\n",
       "        text-align: right;\n",
       "    }\n",
       "</style>\n",
       "<table border=\"1\" class=\"dataframe\">\n",
       "  <thead>\n",
       "    <tr style=\"text-align: right;\">\n",
       "      <th></th>\n",
       "      <th>grade</th>\n",
       "      <th>weight</th>\n",
       "      <th>comment</th>\n",
       "      <th>date</th>\n",
       "      <th>valid</th>\n",
       "      <th>invalidation reason</th>\n",
       "      <th>invalidation date</th>\n",
       "    </tr>\n",
       "  </thead>\n",
       "  <tbody>\n",
       "    <tr>\n",
       "      <th>0</th>\n",
       "      <td>2+</td>\n",
       "      <td>4</td>\n",
       "      <td>Grumpy is grumpy!</td>\n",
       "      <td>2023-01-10 18:19:51.195550</td>\n",
       "      <td>True</td>\n",
       "      <td>None</td>\n",
       "      <td>None</td>\n",
       "    </tr>\n",
       "  </tbody>\n",
       "</table>\n",
       "</div>"
      ],
      "text/plain": [
       "  grade weight            comment                       date valid  \\\n",
       "0    2+      4  Grumpy is grumpy! 2023-01-10 18:19:51.195550  True   \n",
       "\n",
       "  invalidation reason invalidation date  \n",
       "0                None              None  "
      ]
     },
     "execution_count": 4,
     "metadata": {},
     "output_type": "execute_result"
    }
   ],
   "source": [
    "s.grades"
   ]
  },
  {
   "cell_type": "code",
   "execution_count": 5,
   "metadata": {},
   "outputs": [],
   "source": [
    "s.invalidate_grade(0, \"Some prank...\")"
   ]
  },
  {
   "cell_type": "code",
   "execution_count": 6,
   "metadata": {},
   "outputs": [
    {
     "data": {
      "text/html": [
       "<div>\n",
       "<style scoped>\n",
       "    .dataframe tbody tr th:only-of-type {\n",
       "        vertical-align: middle;\n",
       "    }\n",
       "\n",
       "    .dataframe tbody tr th {\n",
       "        vertical-align: top;\n",
       "    }\n",
       "\n",
       "    .dataframe thead th {\n",
       "        text-align: right;\n",
       "    }\n",
       "</style>\n",
       "<table border=\"1\" class=\"dataframe\">\n",
       "  <thead>\n",
       "    <tr style=\"text-align: right;\">\n",
       "      <th></th>\n",
       "      <th>grade</th>\n",
       "      <th>weight</th>\n",
       "      <th>comment</th>\n",
       "      <th>date</th>\n",
       "      <th>valid</th>\n",
       "      <th>invalidation reason</th>\n",
       "      <th>invalidation date</th>\n",
       "    </tr>\n",
       "  </thead>\n",
       "  <tbody>\n",
       "    <tr>\n",
       "      <th>0</th>\n",
       "      <td>2+</td>\n",
       "      <td>4</td>\n",
       "      <td>Grumpy is grumpy!</td>\n",
       "      <td>2023-01-10 18:19:51.195550</td>\n",
       "      <td>False</td>\n",
       "      <td>Some prank...</td>\n",
       "      <td>2023-01-10 18:19:51.407732</td>\n",
       "    </tr>\n",
       "  </tbody>\n",
       "</table>\n",
       "</div>"
      ],
      "text/plain": [
       "  grade weight            comment                       date  valid  \\\n",
       "0    2+      4  Grumpy is grumpy! 2023-01-10 18:19:51.195550  False   \n",
       "\n",
       "  invalidation reason           invalidation date  \n",
       "0       Some prank...  2023-01-10 18:19:51.407732  "
      ]
     },
     "execution_count": 6,
     "metadata": {},
     "output_type": "execute_result"
    }
   ],
   "source": [
    "s.grades"
   ]
  },
  {
   "cell_type": "code",
   "execution_count": 7,
   "metadata": {},
   "outputs": [],
   "source": [
    "s.grades.loc[0, 'grade'] = 5"
   ]
  },
  {
   "cell_type": "code",
   "execution_count": 8,
   "metadata": {},
   "outputs": [
    {
     "data": {
      "text/html": [
       "<div>\n",
       "<style scoped>\n",
       "    .dataframe tbody tr th:only-of-type {\n",
       "        vertical-align: middle;\n",
       "    }\n",
       "\n",
       "    .dataframe tbody tr th {\n",
       "        vertical-align: top;\n",
       "    }\n",
       "\n",
       "    .dataframe thead th {\n",
       "        text-align: right;\n",
       "    }\n",
       "</style>\n",
       "<table border=\"1\" class=\"dataframe\">\n",
       "  <thead>\n",
       "    <tr style=\"text-align: right;\">\n",
       "      <th></th>\n",
       "      <th>grade</th>\n",
       "      <th>weight</th>\n",
       "      <th>comment</th>\n",
       "      <th>date</th>\n",
       "      <th>valid</th>\n",
       "      <th>invalidation reason</th>\n",
       "      <th>invalidation date</th>\n",
       "    </tr>\n",
       "  </thead>\n",
       "  <tbody>\n",
       "    <tr>\n",
       "      <th>0</th>\n",
       "      <td>2+</td>\n",
       "      <td>4</td>\n",
       "      <td>Grumpy is grumpy!</td>\n",
       "      <td>2023-01-10 18:19:51.195550</td>\n",
       "      <td>False</td>\n",
       "      <td>Some prank...</td>\n",
       "      <td>2023-01-10 18:19:51.407732</td>\n",
       "    </tr>\n",
       "  </tbody>\n",
       "</table>\n",
       "</div>"
      ],
      "text/plain": [
       "  grade weight            comment                       date  valid  \\\n",
       "0    2+      4  Grumpy is grumpy! 2023-01-10 18:19:51.195550  False   \n",
       "\n",
       "  invalidation reason           invalidation date  \n",
       "0       Some prank...  2023-01-10 18:19:51.407732  "
      ]
     },
     "execution_count": 8,
     "metadata": {},
     "output_type": "execute_result"
    }
   ],
   "source": [
    "s.grades"
   ]
  }
 ],
 "metadata": {
  "kernelspec": {
   "display_name": "jupyter",
   "language": "python",
   "name": "python3"
  },
  "language_info": {
   "codemirror_mode": {
    "name": "ipython",
    "version": 3
   },
   "file_extension": ".py",
   "mimetype": "text/x-python",
   "name": "python",
   "nbconvert_exporter": "python",
   "pygments_lexer": "ipython3",
   "version": "3.8.12"
  },
  "orig_nbformat": 4,
  "vscode": {
   "interpreter": {
    "hash": "4d2c931069dc78e3f1ebb4556cf3aa9fb186b6019fe6062d9fe5d40d048bc2d8"
   }
  }
 },
 "nbformat": 4,
 "nbformat_minor": 2
}
